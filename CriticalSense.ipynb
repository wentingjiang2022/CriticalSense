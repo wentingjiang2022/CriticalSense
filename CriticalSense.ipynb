{
 "cells": [
  {
   "cell_type": "code",
   "execution_count": 147,
   "id": "588eda4d",
   "metadata": {},
   "outputs": [],
   "source": [
    "#pip install pykml\n",
    "#pip install geopandas\n",
    "#pip install pystac_client\n",
    "#pip install rioxarray"
   ]
  },
  {
   "cell_type": "code",
   "execution_count": 1,
   "id": "7fcff7a0",
   "metadata": {},
   "outputs": [],
   "source": [
    "import pandas as pd\n",
    "from pyproj import Proj, transform\n",
    "import numpy as np\n",
    "from typing import Tuple\n",
    "import numpy as np\n",
    "import geopandas as gpd\n",
    "from pykml.factory import KML_ElementMaker as KML\n",
    "import geopandas as gpd\n",
    "import fiona\n",
    "import rioxarray\n",
    "from PIL import Image"
   ]
  },
  {
   "cell_type": "code",
   "execution_count": 4,
   "id": "6424d404",
   "metadata": {
    "scrolled": false
   },
   "outputs": [
    {
     "data": {
      "text/html": [
       "<div>\n",
       "<style scoped>\n",
       "    .dataframe tbody tr th:only-of-type {\n",
       "        vertical-align: middle;\n",
       "    }\n",
       "\n",
       "    .dataframe tbody tr th {\n",
       "        vertical-align: top;\n",
       "    }\n",
       "\n",
       "    .dataframe thead th {\n",
       "        text-align: right;\n",
       "    }\n",
       "</style>\n",
       "<table border=\"1\" class=\"dataframe\">\n",
       "  <thead>\n",
       "    <tr style=\"text-align: right;\">\n",
       "      <th></th>\n",
       "      <th>gml_id</th>\n",
       "      <th>dgc_codice</th>\n",
       "      <th>codice</th>\n",
       "      <th>topon</th>\n",
       "      <th>dimens</th>\n",
       "      <th>geometry</th>\n",
       "    </tr>\n",
       "  </thead>\n",
       "  <tbody>\n",
       "    <tr>\n",
       "      <th>0</th>\n",
       "      <td>rete_elettrodotti.0</td>\n",
       "      <td>6711.0</td>\n",
       "      <td>0403</td>\n",
       "      <td>NaN</td>\n",
       "      <td>1548.97</td>\n",
       "      <td>LINESTRING (1731199.25000 4831341.50000, 17312...</td>\n",
       "    </tr>\n",
       "    <tr>\n",
       "      <th>1</th>\n",
       "      <td>rete_elettrodotti.1</td>\n",
       "      <td>6704.0</td>\n",
       "      <td>0403</td>\n",
       "      <td>NaN</td>\n",
       "      <td>3007.65</td>\n",
       "      <td>LINESTRING (1731419.02000 4829505.37000, 17313...</td>\n",
       "    </tr>\n",
       "    <tr>\n",
       "      <th>2</th>\n",
       "      <td>rete_elettrodotti.2</td>\n",
       "      <td>6705.0</td>\n",
       "      <td>0403</td>\n",
       "      <td>NaN</td>\n",
       "      <td>255.58</td>\n",
       "      <td>LINESTRING (1732318.76000 4831380.28000, 17323...</td>\n",
       "    </tr>\n",
       "    <tr>\n",
       "      <th>3</th>\n",
       "      <td>rete_elettrodotti.3</td>\n",
       "      <td>6715.0</td>\n",
       "      <td>0403</td>\n",
       "      <td>NaN</td>\n",
       "      <td>5419.39</td>\n",
       "      <td>LINESTRING (1732406.44000 4830388.73000, 17324...</td>\n",
       "    </tr>\n",
       "    <tr>\n",
       "      <th>4</th>\n",
       "      <td>rete_elettrodotti.4</td>\n",
       "      <td>6703.0</td>\n",
       "      <td>0403</td>\n",
       "      <td>NaN</td>\n",
       "      <td>804.52</td>\n",
       "      <td>LINESTRING (1732429.31000 4831149.91000, 17324...</td>\n",
       "    </tr>\n",
       "  </tbody>\n",
       "</table>\n",
       "</div>"
      ],
      "text/plain": [
       "                gml_id  dgc_codice codice  topon   dimens  \\\n",
       "0  rete_elettrodotti.0      6711.0   0403    NaN  1548.97   \n",
       "1  rete_elettrodotti.1      6704.0   0403    NaN  3007.65   \n",
       "2  rete_elettrodotti.2      6705.0   0403    NaN   255.58   \n",
       "3  rete_elettrodotti.3      6715.0   0403    NaN  5419.39   \n",
       "4  rete_elettrodotti.4      6703.0   0403    NaN   804.52   \n",
       "\n",
       "                                            geometry  \n",
       "0  LINESTRING (1731199.25000 4831341.50000, 17312...  \n",
       "1  LINESTRING (1731419.02000 4829505.37000, 17313...  \n",
       "2  LINESTRING (1732318.76000 4831380.28000, 17323...  \n",
       "3  LINESTRING (1732406.44000 4830388.73000, 17324...  \n",
       "4  LINESTRING (1732429.31000 4831149.91000, 17324...  "
      ]
     },
     "execution_count": 4,
     "metadata": {},
     "output_type": "execute_result"
    }
   ],
   "source": [
    "# Load GeoJSON file, this is the high voltage network in part of Italy\n",
    "file_path = \"rete_elettrodotti_app.geojson\"\n",
    "gdf = gpd.read_file(file_path)\n",
    "gdf.head()"
   ]
  },
  {
   "cell_type": "code",
   "execution_count": 5,
   "id": "ebc883f2",
   "metadata": {},
   "outputs": [],
   "source": [
    "#def linestring_to_points(feature,line):\n",
    "#    return {feature:line.coords}\n",
    "\n",
    "#gdf['points'] = gdf.apply(lambda l: linestring_to_points(l['codice'], l['geometry']), axis=1)"
   ]
  },
  {
   "cell_type": "code",
   "execution_count": 6,
   "id": "0b4003bb",
   "metadata": {},
   "outputs": [],
   "source": [
    "#geoms = gdf.geometry\n",
    "\n",
    "# Display the first geometry in the GeoDataFrame\n",
    "#print(geoms[0])"
   ]
  },
  {
   "cell_type": "code",
   "execution_count": 7,
   "id": "27d38012",
   "metadata": {},
   "outputs": [],
   "source": [
    "def get_coords(geom):\n",
    "    return geom.coords[0]\n",
    "\n",
    "# Apply the function to the geometry column\n",
    "gdf['coordinates_origin'] = gdf['geometry'].apply(get_coords)"
   ]
  },
  {
   "cell_type": "code",
   "execution_count": 8,
   "id": "fafd6b12",
   "metadata": {
    "scrolled": true
   },
   "outputs": [
    {
     "data": {
      "text/html": [
       "<div>\n",
       "<style scoped>\n",
       "    .dataframe tbody tr th:only-of-type {\n",
       "        vertical-align: middle;\n",
       "    }\n",
       "\n",
       "    .dataframe tbody tr th {\n",
       "        vertical-align: top;\n",
       "    }\n",
       "\n",
       "    .dataframe thead th {\n",
       "        text-align: right;\n",
       "    }\n",
       "</style>\n",
       "<table border=\"1\" class=\"dataframe\">\n",
       "  <thead>\n",
       "    <tr style=\"text-align: right;\">\n",
       "      <th></th>\n",
       "      <th>Name</th>\n",
       "      <th>Description</th>\n",
       "      <th>geometry</th>\n",
       "    </tr>\n",
       "  </thead>\n",
       "  <tbody>\n",
       "    <tr>\n",
       "      <th>0</th>\n",
       "      <td></td>\n",
       "      <td></td>\n",
       "      <td>LINESTRING (11.86405 43.59904, 11.86417 43.598...</td>\n",
       "    </tr>\n",
       "    <tr>\n",
       "      <th>1</th>\n",
       "      <td></td>\n",
       "      <td></td>\n",
       "      <td>LINESTRING (11.86598 43.58246, 11.86522 43.582...</td>\n",
       "    </tr>\n",
       "    <tr>\n",
       "      <th>2</th>\n",
       "      <td></td>\n",
       "      <td></td>\n",
       "      <td>LINESTRING (11.87792 43.59904, 11.87805 43.598...</td>\n",
       "    </tr>\n",
       "    <tr>\n",
       "      <th>3</th>\n",
       "      <td></td>\n",
       "      <td></td>\n",
       "      <td>LINESTRING (11.87858 43.59009, 11.87855 43.589...</td>\n",
       "    </tr>\n",
       "    <tr>\n",
       "      <th>4</th>\n",
       "      <td></td>\n",
       "      <td></td>\n",
       "      <td>LINESTRING (11.87919 43.59693, 11.87987 43.595...</td>\n",
       "    </tr>\n",
       "    <tr>\n",
       "      <th>...</th>\n",
       "      <td>...</td>\n",
       "      <td>...</td>\n",
       "      <td>...</td>\n",
       "    </tr>\n",
       "    <tr>\n",
       "      <th>85</th>\n",
       "      <td></td>\n",
       "      <td></td>\n",
       "      <td>LINESTRING (11.78349 43.29903, 11.78272 43.299...</td>\n",
       "    </tr>\n",
       "    <tr>\n",
       "      <th>86</th>\n",
       "      <td></td>\n",
       "      <td></td>\n",
       "      <td>LINESTRING (11.87583 43.34381, 11.86993 43.34903)</td>\n",
       "    </tr>\n",
       "    <tr>\n",
       "      <th>87</th>\n",
       "      <td></td>\n",
       "      <td></td>\n",
       "      <td>LINESTRING (11.87614 43.34387, 11.87023 43.34903)</td>\n",
       "    </tr>\n",
       "    <tr>\n",
       "      <th>88</th>\n",
       "      <td></td>\n",
       "      <td></td>\n",
       "      <td>LINESTRING (11.91574 43.30915, 11.91401 43.310...</td>\n",
       "    </tr>\n",
       "    <tr>\n",
       "      <th>89</th>\n",
       "      <td></td>\n",
       "      <td></td>\n",
       "      <td>LINESTRING (11.91574 43.30890, 11.91385 43.310...</td>\n",
       "    </tr>\n",
       "  </tbody>\n",
       "</table>\n",
       "<p>90 rows × 3 columns</p>\n",
       "</div>"
      ],
      "text/plain": [
       "   Name Description                                           geometry\n",
       "0                    LINESTRING (11.86405 43.59904, 11.86417 43.598...\n",
       "1                    LINESTRING (11.86598 43.58246, 11.86522 43.582...\n",
       "2                    LINESTRING (11.87792 43.59904, 11.87805 43.598...\n",
       "3                    LINESTRING (11.87858 43.59009, 11.87855 43.589...\n",
       "4                    LINESTRING (11.87919 43.59693, 11.87987 43.595...\n",
       "..  ...         ...                                                ...\n",
       "85                   LINESTRING (11.78349 43.29903, 11.78272 43.299...\n",
       "86                   LINESTRING (11.87583 43.34381, 11.86993 43.34903)\n",
       "87                   LINESTRING (11.87614 43.34387, 11.87023 43.34903)\n",
       "88                   LINESTRING (11.91574 43.30915, 11.91401 43.310...\n",
       "89                   LINESTRING (11.91574 43.30890, 11.91385 43.310...\n",
       "\n",
       "[90 rows x 3 columns]"
      ]
     },
     "execution_count": 8,
     "metadata": {},
     "output_type": "execute_result"
    }
   ],
   "source": [
    "gpd.io.file.fiona.drvsupport.supported_drivers['KML'] = 'rw'\n",
    "df = gpd.read_file('rete_elettrodotti_app.kml', driver='KML')\n",
    "df.head()"
   ]
  },
  {
   "cell_type": "code",
   "execution_count": 9,
   "id": "34ae4e6c",
   "metadata": {},
   "outputs": [],
   "source": [
    "def get_coords(geom):\n",
    "    return geom.coords[0]\n",
    "\n",
    "# Apply the function to the geometry column\n",
    "df['coordinates'] =df['geometry'].apply(get_coords)"
   ]
  },
  {
   "cell_type": "code",
   "execution_count": 11,
   "id": "c719148f",
   "metadata": {
    "scrolled": false
   },
   "outputs": [],
   "source": [
    "location=[]\n",
    "for i in df['geometry']:\n",
    "    location.append(list(i.coords))"
   ]
  },
  {
   "cell_type": "code",
   "execution_count": 12,
   "id": "c26c77dd",
   "metadata": {},
   "outputs": [],
   "source": [
    "lon=[]\n",
    "lat=[]\n",
    "for i in location:\n",
    "    for j in i:\n",
    "        lon.append(j[0])\n",
    "        lat.append(j[1])"
   ]
  },
  {
   "cell_type": "code",
   "execution_count": 13,
   "id": "ad1ffc7c",
   "metadata": {},
   "outputs": [],
   "source": [
    "# find the central area of the high voltage network to query the image from \n",
    "min_lon=min(lon)\n",
    "max_lon=max(lon)\n",
    "min_lat=min(lat)\n",
    "max_lat=max(lat)"
   ]
  },
  {
   "cell_type": "code",
   "execution_count": 55,
   "id": "f65728fe",
   "metadata": {
    "scrolled": true
   },
   "outputs": [
    {
     "data": {
      "text/plain": [
       "11.87232651372281"
      ]
     },
     "execution_count": 55,
     "metadata": {},
     "output_type": "execute_result"
    }
   ],
   "source": [
    "print((min_lon + max_lon)/2)"
   ]
  },
  {
   "cell_type": "code",
   "execution_count": 56,
   "id": "0e0ebe05",
   "metadata": {},
   "outputs": [
    {
     "data": {
      "text/plain": [
       "43.44903099168371"
      ]
     },
     "execution_count": 56,
     "metadata": {},
     "output_type": "execute_result"
    }
   ],
   "source": [
    "print((min_lat + max_lat)/2)"
   ]
  },
  {
   "cell_type": "code",
   "execution_count": 31,
   "id": "42dbf02f",
   "metadata": {},
   "outputs": [],
   "source": [
    "api_url = \"https://earth-search.aws.element84.com/v0\"\n",
    "from pystac_client import Client\n",
    "\n",
    "client = Client.open(api_url)"
   ]
  },
  {
   "cell_type": "code",
   "execution_count": 32,
   "id": "d65b8c67",
   "metadata": {},
   "outputs": [],
   "source": [
    "collection = \"sentinel-s2-l2a-cogs\"  # Sentinel-2, Level 2A, COGs"
   ]
  },
  {
   "cell_type": "code",
   "execution_count": 61,
   "id": "0fef8cbc",
   "metadata": {},
   "outputs": [],
   "source": [
    "from shapely.geometry import Point\n",
    "point = Point(11.87, 43.45)  \n",
    "#round(11.87232651372281,2)\n",
    "#round(43.44903099168371,2)"
   ]
  },
  {
   "cell_type": "code",
   "execution_count": 71,
   "id": "74b57b11",
   "metadata": {},
   "outputs": [],
   "source": [
    "search = client.search(\n",
    "    collections=[collection],\n",
    "    intersects=point,\n",
    "    max_items=10,\n",
    ")"
   ]
  },
  {
   "cell_type": "code",
   "execution_count": 72,
   "id": "d3c2dafb",
   "metadata": {},
   "outputs": [
    {
     "name": "stdout",
     "output_type": "stream",
     "text": [
      "785\n"
     ]
    }
   ],
   "source": [
    "print(search.matched())"
   ]
  },
  {
   "cell_type": "code",
   "execution_count": 73,
   "id": "3c31967b",
   "metadata": {},
   "outputs": [],
   "source": [
    "items = search.get_all_items()"
   ]
  },
  {
   "cell_type": "code",
   "execution_count": 135,
   "id": "1584d745",
   "metadata": {},
   "outputs": [
    {
     "name": "stdout",
     "output_type": "stream",
     "text": [
      "2023-03-16 10:08:46+00:00\n",
      "{'type': 'Polygon', 'coordinates': [[[12.81261993814928, 43.20122074964178], [11.549770306028183, 43.23637418759707], [11.872524455947243, 44.217278157543255], [12.875725873123068, 44.18761302539064], [12.81261993814928, 43.20122074964178]]]}\n",
      "{'datetime': '2023-03-16T10:08:46Z', 'platform': 'sentinel-2b', 'constellation': 'sentinel-2', 'instruments': ['msi'], 'gsd': 10, 'view:off_nadir': 0, 'proj:epsg': 32632, 'sentinel:utm_zone': 32, 'sentinel:latitude_band': 'T', 'sentinel:grid_square': 'QP', 'sentinel:sequence': '0', 'sentinel:product_id': 'S2B_MSIL2A_20230316T100029_N0509_R122_T32TQP_20230316T130117', 'sentinel:data_coverage': 83.16, 'eo:cloud_cover': 46.85, 'sentinel:valid_cloud_cover': True, 'sentinel:processing_baseline': '05.09', 'sentinel:boa_offset_applied': True, 'created': '2023-03-16T20:22:28.294Z', 'updated': '2023-03-16T20:22:28.294Z'}\n"
     ]
    }
   ],
   "source": [
    "item = items[3]\n",
    "print(item.datetime)\n",
    "print(item.geometry)\n",
    "print(item.properties)"
   ]
  },
  {
   "cell_type": "code",
   "execution_count": 131,
   "id": "4968cf6f",
   "metadata": {},
   "outputs": [
    {
     "name": "stdout",
     "output_type": "stream",
     "text": [
      "dict_keys(['thumbnail', 'overview', 'info', 'metadata', 'visual', 'B01', 'B02', 'B03', 'B04', 'B05', 'B06', 'B07', 'B08', 'B8A', 'B09', 'B11', 'B12', 'AOT', 'WVP', 'SCL'])\n"
     ]
    }
   ],
   "source": [
    "assets = items[3].assets  # first item's asset dictionary\n",
    "# number 3 is fine, with less cloud\n",
    "print(assets.keys())"
   ]
  },
  {
   "cell_type": "code",
   "execution_count": 132,
   "id": "78ae1e3f",
   "metadata": {
    "scrolled": false
   },
   "outputs": [
    {
     "name": "stdout",
     "output_type": "stream",
     "text": [
      "thumbnail: Thumbnail\n",
      "overview: True color image\n",
      "info: Original JSON metadata\n",
      "metadata: Original XML metadata\n",
      "visual: True color image\n",
      "B01: Band 1 (coastal)\n",
      "B02: Band 2 (blue)\n",
      "B03: Band 3 (green)\n",
      "B04: Band 4 (red)\n",
      "B05: Band 5\n",
      "B06: Band 6\n",
      "B07: Band 7\n",
      "B08: Band 8 (nir)\n",
      "B8A: Band 8A\n",
      "B09: Band 9\n",
      "B11: Band 11 (swir16)\n",
      "B12: Band 12 (swir22)\n",
      "AOT: Aerosol Optical Thickness (AOT)\n",
      "WVP: Water Vapour (WVP)\n",
      "SCL: Scene Classification Map (SCL)\n"
     ]
    }
   ],
   "source": [
    "for key, asset in assets.items():\n",
    "    print(f\"{key}: {asset.title}\")"
   ]
  },
  {
   "cell_type": "code",
   "execution_count": 102,
   "id": "3f2d81cd",
   "metadata": {
    "scrolled": false
   },
   "outputs": [
    {
     "name": "stdout",
     "output_type": "stream",
     "text": [
      "https://roda.sentinel-hub.com/sentinel-s2-l1c/tiles/32/T/QP/2023/3/16/0/preview.jpg\n"
     ]
    }
   ],
   "source": [
    "print(assets[\"thumbnail\"].href)"
   ]
  },
  {
   "cell_type": "code",
   "execution_count": 133,
   "id": "593b3855",
   "metadata": {
    "scrolled": false
   },
   "outputs": [
    {
     "name": "stdout",
     "output_type": "stream",
     "text": [
      "<xarray.DataArray (band: 1, y: 5490, x: 5490)>\n",
      "[30140100 values with dtype=uint16]\n",
      "Coordinates:\n",
      "  * band         (band) int64 1\n",
      "  * x            (x) float64 7e+05 7e+05 7e+05 ... 8.097e+05 8.097e+05 8.098e+05\n",
      "  * y            (y) float64 4.9e+06 4.9e+06 4.9e+06 ... 4.79e+06 4.79e+06\n",
      "    spatial_ref  int64 0\n",
      "Attributes:\n",
      "    AREA_OR_POINT:       Area\n",
      "    OVR_RESAMPLING_ALG:  AVERAGE\n",
      "    _FillValue:          0\n",
      "    scale_factor:        1.0\n",
      "    add_offset:          0.0\n"
     ]
    }
   ],
   "source": [
    "b08_href = assets[\"B8A\"].href\n",
    "b08 = rioxarray.open_rasterio(b08_href)\n",
    "b08.rio.to_raster(\"B08.tif\")\n",
    "\n",
    "b02_href = assets[\"B02\"].href\n",
    "b02 = rioxarray.open_rasterio(b02_href)\n",
    "b02.rio.to_raster(\"B02.tif\")\n",
    "\n",
    "b03_href = assets[\"B03\"].href\n",
    "b03 = rioxarray.open_rasterio(b03_href)\n",
    "b03.rio.to_raster(\"B03.tif\")\n",
    "\n",
    "b04_href = assets[\"B04\"].href\n",
    "b04 = rioxarray.open_rasterio(b04_href)\n",
    "b04.rio.to_raster(\"B04.tif\")"
   ]
  },
  {
   "cell_type": "code",
   "execution_count": 125,
   "id": "fb8205dd",
   "metadata": {},
   "outputs": [
    {
     "data": {
      "text/plain": [
       "array([[   0,    0,    0, ...,    1,    1,    1],\n",
       "       [   0,    0,    0, ...,    1,    1,    1],\n",
       "       [   0,    0,    0, ...,    1,    1,    1],\n",
       "       ...,\n",
       "       [   0,    0,    0, ..., 2705, 2957, 2767],\n",
       "       [   0,    0,    0, ..., 2697, 2842, 2482],\n",
       "       [   0,    0,    0, ..., 2598, 2622, 2234]], dtype=uint16)"
      ]
     },
     "execution_count": 125,
     "metadata": {},
     "output_type": "execute_result"
    }
   ],
   "source": [
    "im08 = Image.open('B08.tif')\n",
    "im08_array = numpy.array(im08)\n",
    "im08_array\n",
    "#im08.show()"
   ]
  },
  {
   "cell_type": "code",
   "execution_count": 126,
   "id": "cb5bc026",
   "metadata": {
    "scrolled": false
   },
   "outputs": [
    {
     "name": "stderr",
     "output_type": "stream",
     "text": [
      "/Users/wentingjiang/opt/anaconda3/lib/python3.9/site-packages/PIL/Image.py:3035: DecompressionBombWarning: Image size (120560400 pixels) exceeds limit of 89478485 pixels, could be decompression bomb DOS attack.\n",
      "  warnings.warn(\n"
     ]
    },
    {
     "data": {
      "text/plain": [
       "array([[   0,    0,    0, ...,    1,    1,    1],\n",
       "       [   0,    0,    0, ...,    1,    1,   10],\n",
       "       [   0,    0,    0, ...,    1,    1,    1],\n",
       "       ...,\n",
       "       [   0,    0,    0, ..., 1246,  976,  990],\n",
       "       [   0,    0,    0, ..., 1130, 1019,  866],\n",
       "       [   0,    0,    0, ...,  903,  944,  972]], dtype=uint16)"
      ]
     },
     "execution_count": 126,
     "metadata": {},
     "output_type": "execute_result"
    }
   ],
   "source": [
    "im04 = Image.open('B04.tif')\n",
    "im04_array = numpy.array(im04)\n",
    "im04_array"
   ]
  },
  {
   "cell_type": "code",
   "execution_count": 148,
   "id": "1473a786",
   "metadata": {},
   "outputs": [
    {
     "data": {
      "text/plain": [
       "(10980, 10980)"
      ]
     },
     "execution_count": 148,
     "metadata": {},
     "output_type": "execute_result"
    }
   ],
   "source": [
    "im04_array.shape\n",
    "#need to down sample the 2,3,4 bands"
   ]
  },
  {
   "cell_type": "code",
   "execution_count": 129,
   "id": "517ea9a3",
   "metadata": {
    "scrolled": true
   },
   "outputs": [
    {
     "data": {
      "text/plain": [
       "(5490, 5490)"
      ]
     },
     "execution_count": 129,
     "metadata": {},
     "output_type": "execute_result"
    }
   ],
   "source": [
    "im08_array.shape"
   ]
  },
  {
   "cell_type": "code",
   "execution_count": 139,
   "id": "2bef753b",
   "metadata": {},
   "outputs": [
    {
     "data": {
      "text/plain": [
       "array([[0.00000e+00, 0.00000e+00, 0.00000e+00, ..., 1.00000e+00,\n",
       "        1.00000e+00, 3.25000e+00],\n",
       "       [0.00000e+00, 0.00000e+00, 0.00000e+00, ..., 1.00000e+00,\n",
       "        1.00000e+00, 1.00000e+00],\n",
       "       [0.00000e+00, 0.00000e+00, 0.00000e+00, ..., 1.00000e+00,\n",
       "        1.00000e+00, 1.00000e+00],\n",
       "       ...,\n",
       "       [0.00000e+00, 0.00000e+00, 0.00000e+00, ..., 1.28450e+03,\n",
       "        1.48100e+03, 1.19725e+03],\n",
       "       [0.00000e+00, 0.00000e+00, 0.00000e+00, ..., 1.29350e+03,\n",
       "        1.38800e+03, 1.05050e+03],\n",
       "       [0.00000e+00, 0.00000e+00, 0.00000e+00, ..., 1.04700e+03,\n",
       "        1.10825e+03, 9.50250e+02]])"
      ]
     },
     "execution_count": 139,
     "metadata": {},
     "output_type": "execute_result"
    }
   ],
   "source": [
    "def downsample_by_averaging(img: np.ndarray, window_shape: Tuple[int, int]) -> np.ndarray:\n",
    "    return np.mean(\n",
    "        img.reshape((\n",
    "            *img.shape[:-2],\n",
    "            img.shape[-2] // window_shape[-2], window_shape[-2],\n",
    "            img.shape[-1] // window_shape[-1], window_shape[-1],\n",
    "        )),\n",
    "        axis=(-1, -3),\n",
    "    )\n",
    "\n",
    "im04_array_new=downsample_by_averaging(im04_array, (2, 2))\n",
    "im04_array_new"
   ]
  },
  {
   "cell_type": "code",
   "execution_count": 144,
   "id": "09bb3edb",
   "metadata": {},
   "outputs": [
    {
     "data": {
      "text/plain": [
       "array([[ 0.        ,  0.        ,  0.        , ...,  0.        ,\n",
       "         0.        , -0.52939931],\n",
       "       [ 0.        ,  0.        ,  0.        , ...,  0.        ,\n",
       "         0.        ,  0.        ],\n",
       "       [ 0.        ,  0.        ,  0.        , ...,  0.        ,\n",
       "         0.        ,  0.        ],\n",
       "       ...,\n",
       "       [ 0.        ,  0.        ,  0.        , ...,  0.35605965,\n",
       "         0.33258224,  0.39597653],\n",
       "       [ 0.        ,  0.        ,  0.        , ...,  0.3517103 ,\n",
       "         0.34373522,  0.40523707],\n",
       "       [ 0.        ,  0.        ,  0.        , ...,  0.42551439,\n",
       "         0.40580389,  0.40315615]])"
      ]
     },
     "execution_count": 144,
     "metadata": {},
     "output_type": "execute_result"
    }
   ],
   "source": [
    "#(NIR-RED) / (NIR+RED) -> vegetation, adding a small number to avoid NaNs\n",
    "ndvi=(im08_array-im04_array_new)/(im08_array+im04_array_new+0.0001)\n",
    "ndvi"
   ]
  },
  {
   "cell_type": "code",
   "execution_count": 146,
   "id": "712f232d",
   "metadata": {},
   "outputs": [],
   "source": [
    "img = Image.fromarray(ndvi, 'RGB')\n",
    "#img.save('my.png')\n",
    "img.show()"
   ]
  },
  {
   "cell_type": "code",
   "execution_count": 149,
   "id": "5b14c97d",
   "metadata": {},
   "outputs": [],
   "source": [
    "#Normalized Difference Moisture Index (NDMI)\n",
    "#Sentinel-2 NDMI = (B08 - B11) / (B08 + B11)\n",
    "\n",
    "b11_href = assets[\"B11\"].href\n",
    "b11 = rioxarray.open_rasterio(b11_href)\n",
    "b11.rio.to_raster(\"B11.tif\")"
   ]
  },
  {
   "cell_type": "code",
   "execution_count": 150,
   "id": "b6628998",
   "metadata": {
    "scrolled": true
   },
   "outputs": [
    {
     "data": {
      "text/plain": [
       "array([[   0,    0,    0, ...,   22,   28,   34],\n",
       "       [   0,    0,    0, ...,   19,   24,   32],\n",
       "       [   0,    0,    0, ...,   31,   27,   26],\n",
       "       ...,\n",
       "       [   0,    0,    0, ..., 3015, 3370, 3094],\n",
       "       [   0,    0,    0, ..., 3014, 3150, 2826],\n",
       "       [   0,    0,    0, ..., 2739, 2809, 2466]], dtype=uint16)"
      ]
     },
     "execution_count": 150,
     "metadata": {},
     "output_type": "execute_result"
    }
   ],
   "source": [
    "im11 = Image.open('B11.tif')\n",
    "im11_array = numpy.array(im11)\n",
    "im11_array"
   ]
  },
  {
   "cell_type": "code",
   "execution_count": 156,
   "id": "f28f9dc6",
   "metadata": {
    "scrolled": true
   },
   "outputs": [
    {
     "data": {
      "text/plain": [
       "array([[   0.        ,    0.        ,    0.        , ..., 2848.46587624,\n",
       "        2258.92324509, 1871.50893855],\n",
       "       [   0.        ,    0.        ,    0.        , ..., 3275.88362058,\n",
       "        2620.50951796, 1984.99398487],\n",
       "       [   0.        ,    0.        ,    0.        , ..., 2047.05610295,\n",
       "        2339.63450131, 2426.32434695],\n",
       "       ...,\n",
       "       [   0.        ,    0.        ,    0.        , ...,   11.40314665,\n",
       "          10.29287166,   11.12591689],\n",
       "       [   0.        ,    0.        ,    0.        , ...,   11.41989124,\n",
       "          10.88584762,   12.2818385 ],\n",
       "       [   0.        ,    0.        ,    0.        , ...,   12.25313824,\n",
       "          12.03259046,   13.89446779]])"
      ]
     },
     "execution_count": 156,
     "metadata": {},
     "output_type": "execute_result"
    }
   ],
   "source": [
    "NDMI = (im08_array - im11_array) / (im08_array + im11_array + +0.0001)\n",
    "NDMI"
   ]
  }
 ],
 "metadata": {
  "kernelspec": {
   "display_name": "Python 3 (ipykernel)",
   "language": "python",
   "name": "python3"
  },
  "language_info": {
   "codemirror_mode": {
    "name": "ipython",
    "version": 3
   },
   "file_extension": ".py",
   "mimetype": "text/x-python",
   "name": "python",
   "nbconvert_exporter": "python",
   "pygments_lexer": "ipython3",
   "version": "3.9.13"
  }
 },
 "nbformat": 4,
 "nbformat_minor": 5
}
